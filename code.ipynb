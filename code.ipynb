{
 "cells": [
  {
   "cell_type": "code",
   "execution_count": 1,
   "id": "c65eae70",
   "metadata": {
    "ExecuteTime": {
     "end_time": "2022-03-05T14:18:22.940145Z",
     "start_time": "2022-03-05T14:18:22.437368Z"
    }
   },
   "outputs": [],
   "source": [
    "import numpy as np\n",
    "import pandas as pd\n",
    "\n",
    "import matplotlib.pyplot as plt\n",
    "\n",
    "from scipy import optimize"
   ]
  },
  {
   "cell_type": "code",
   "execution_count": 2,
   "id": "bdc57cd3",
   "metadata": {
    "ExecuteTime": {
     "end_time": "2022-03-05T14:18:25.636396Z",
     "start_time": "2022-03-05T14:18:23.405563Z"
    }
   },
   "outputs": [],
   "source": [
    "WIDTH = 32\n",
    "HEIGHT = 32\n",
    "\n",
    "X_train = np.array(pd.read_csv('X_train.csv', header=None, sep=',', usecols=range(3*WIDTH*HEIGHT)))\n",
    "y_train = np.array(pd.read_csv('y_train.csv', header='infer', sep=','))[:, 1]  # discard the id column\n",
    "classes = np.unique(y_train)\n",
    "\n",
    "X_test = np.array(pd.read_csv('X_test.csv', header=None, sep=',', usecols=range(3*WIDTH*HEIGHT)))"
   ]
  },
  {
   "cell_type": "code",
   "execution_count": 3,
   "id": "cdeda1b3",
   "metadata": {
    "ExecuteTime": {
     "end_time": "2022-03-05T14:18:25.791681Z",
     "start_time": "2022-03-05T14:18:25.637438Z"
    }
   },
   "outputs": [],
   "source": [
    "RGB2GREY = [0.2989, 0.5870, 0.1140]\n",
    "\n",
    "def preprocess(X, to_grey=False):\n",
    "    X = X.reshape(-1, 3, WIDTH, HEIGHT).transpose(0, 2, 3, 1)\n",
    "    X -= X.min(axis=(0, 1, 2))\n",
    "    X /= X.max(axis=(0, 1, 2))\n",
    "    if to_grey:\n",
    "        return (X @ RGB2GREY).reshape(-1, WIDTH*HEIGHT)\n",
    "    return X.transpose(0, 3, 1, 2).reshape(-1, 3*WIDTH*HEIGHT)\n",
    "\n",
    "def split_train_set(X, y, classes, val_size=0.2, seed=None):\n",
    "    rng = np.random.default_rng(seed)\n",
    "    \n",
    "    nb_examples = len(y) // len(classes)\n",
    "    val_examples = int(val_size * nb_examples)\n",
    "    \n",
    "    class_indices = np.zeros((len(classes), nb_examples), dtype=int)\n",
    "    for i, class_ in enumerate(classes):\n",
    "        class_indices[i] = np.argwhere(y == class_).ravel()\n",
    "    \n",
    "    val_indices = rng.choice(\n",
    "        class_indices,\n",
    "        size=val_examples,\n",
    "        replace=False,\n",
    "        axis=1\n",
    "    )\n",
    "    \n",
    "    train_indices = np.zeros((len(classes), nb_examples - val_examples), dtype=int)\n",
    "    for i in range(len(classes)):\n",
    "        train_indices[i] = np.setdiff1d(\n",
    "            class_indices[i],\n",
    "            val_indices[i],\n",
    "            assume_unique=True\n",
    "        )\n",
    "    \n",
    "    train_indices = rng.permutation(train_indices.ravel())\n",
    "    val_indices = rng.permutation(val_indices.ravel())\n",
    "    \n",
    "    return X_train[train_indices], y_train[train_indices], \\\n",
    "            X_train[val_indices], y_train[val_indices]\n",
    "    \n",
    "X_train, y_train, X_val, y_val = split_train_set(\n",
    "    X_train,\n",
    "    y_train,\n",
    "    classes,\n",
    "    seed=12345\n",
    ")\n",
    "X_train = preprocess(X_train, to_grey=True)\n",
    "X_val = preprocess(X_val, to_grey=True)\n",
    "X_test = preprocess(X_test, to_grey=True)"
   ]
  },
  {
   "cell_type": "code",
   "execution_count": 4,
   "id": "bacb5f8b",
   "metadata": {
    "ExecuteTime": {
     "end_time": "2022-03-05T14:18:25.870342Z",
     "start_time": "2022-03-05T14:18:25.792477Z"
    }
   },
   "outputs": [
    {
     "data": {
      "text/plain": [
       "[]"
      ]
     },
     "execution_count": 4,
     "metadata": {},
     "output_type": "execute_result"
    },
    {
     "data": {
      "image/png": "[encoded data removed]",
      "text/plain": [
       "<Figure size 432x288 with 1 Axes>"
      ]
     },
     "metadata": {
      "needs_background": "light"
     },
     "output_type": "display_data"
    }
   ],
   "source": [
    "plt.imshow(X_train[4].reshape(WIDTH, HEIGHT))\n",
    "plt.plot()"
   ]
  },
  {
   "cell_type": "markdown",
   "id": "86170944",
   "metadata": {},
   "source": [
    "# SVM"
   ]
  },
  {
   "cell_type": "code",
   "execution_count": 5,
   "id": "c93edfef",
   "metadata": {
    "ExecuteTime": {
     "end_time": "2022-03-05T14:18:27.850886Z",
     "start_time": "2022-03-05T14:18:27.847853Z"
    }
   },
   "outputs": [],
   "source": [
    "class RBF:\n",
    "    def __init__(self, sigma=1.):\n",
    "        self.sigma = sigma  ## the variance of the kernel\n",
    "\n",
    "    def kernel(self, X, Y):\n",
    "        ## Input vectors X and Y of shape Nxd and Mxd\n",
    "        dists = np.square(X)[:, np.newaxis].sum(axis=2) - 2*X @ Y.T + np.square(Y).sum(axis=1)\n",
    "        return np.exp(-dists/(2*sigma**2))    ## Matrix of shape NxM\n",
    "    \n",
    "class Linear:\n",
    "    def __init__(self):\n",
    "        pass\n",
    "\n",
    "    def kernel(self, X, Y):\n",
    "        ## Input vectors X and Y of shape Nxd and Mxd\n",
    "        return X @ Y.T ## Matrix of shape NxM"
   ]
  },
  {
   "cell_type": "code",
   "execution_count": 6,
   "id": "0e588dcd",
   "metadata": {
    "ExecuteTime": {
     "end_time": "2022-03-05T14:18:28.410134Z",
     "start_time": "2022-03-05T14:18:28.401410Z"
    }
   },
   "outputs": [],
   "source": [
    "class KernelSVC:\n",
    "    \n",
    "    def __init__(self, C, kernel, epsilon=1e-3):\n",
    "        self.type = 'non-linear'\n",
    "        self.C = C                               \n",
    "        self.kernel = kernel        \n",
    "        self.support = None\n",
    "        self.epsilon = epsilon\n",
    "\n",
    "    def fit(self, X, y, K_sim):\n",
    "       #### You might define here any variable needed for the rest of the code\n",
    "        N = len(y)\n",
    "\n",
    "        # Lagrange dual problem\n",
    "        def loss(alpha):\n",
    "            alpha_y = alpha * y\n",
    "            return -alpha.sum() + (1/2) * alpha_y @ K_sim @ alpha_y\n",
    "\n",
    "        # Partial derivate of Ld on alpha\n",
    "        def grad_loss(alpha):\n",
    "            return -np.ones(N) + (y.reshape(-1, 1) * K_sim) @ (alpha * y)\n",
    "\n",
    "\n",
    "        # '''----------------function defining the equality constraint------------------'''\n",
    "        fun_eq = lambda alpha: np.dot(alpha, y)\n",
    "        #'''----------------jacobian wrt alpha of the  equality constraint------------------'''\n",
    "        jac_eq = lambda alpha: y\n",
    "        # '''---------------function defining the inequality constraint-------------------'''\n",
    "#         fun_ineq = lambda alpha: np.hstack((np.zeros(N), self.C*np.ones(N))) + np.hstack((alpha, -alpha))\n",
    "        # '''---------------jacobian wrt alpha of the  inequality constraint-------------------'''\n",
    "#         jac_ineq = lambda alpha: np.vstack((np.eye(N), -np.eye(N)))\n",
    "        \n",
    "        constraints = (\n",
    "            {'type': 'eq',  'fun': fun_eq, 'jac': jac_eq},\n",
    "#             {'type': 'ineq', 'fun': fun_ineq , 'jac': jac_ineq}\n",
    "        )\n",
    "        \n",
    "        optRes = optimize.minimize(fun=lambda alpha: loss(alpha),\n",
    "                                   x0=np.ones(N), \n",
    "                                   method='SLSQP', \n",
    "                                   jac=lambda alpha: grad_loss(alpha),\n",
    "                                   bounds=((0, self.C),) * N,\n",
    "                                   constraints=constraints)\n",
    "        self.alpha = optRes.x\n",
    "        \n",
    "        ## Assign the required attributes\n",
    "        supportIndices = np.argwhere(np.abs(self.alpha) <= self.epsilon).ravel()\n",
    "        self.support = X[supportIndices]\n",
    "        self.beta = y[supportIndices] * self.alpha[supportIndices]\n",
    "        \n",
    "        b_indices = np.intersect1d(supportIndices, np.argwhere(self.alpha >= self.C - self.epsilon).ravel())\n",
    "        \n",
    "        self.b = np.mean(y[b_indices] - K_sim[np.ix_(b_indices, supportIndices)] @ self.beta)\n",
    "\n",
    "\n",
    "    def predict(self, X):\n",
    "        \"\"\" Predict y values before thresholding \"\"\"\n",
    "        return self.b + self.kernel(x, self.support) @ self.beta"
   ]
  },
  {
   "cell_type": "code",
   "execution_count": 7,
   "id": "08119105",
   "metadata": {
    "ExecuteTime": {
     "end_time": "2022-03-05T14:18:29.432804Z",
     "start_time": "2022-03-05T14:18:29.425825Z"
    }
   },
   "outputs": [],
   "source": [
    "class KernelSVMC:\n",
    "    \n",
    "    def __init__(self, C, kernel, classes, epsilon=1e-3):\n",
    "        self.type = 'non-linear'\n",
    "        self.C = C\n",
    "        self.kernel = kernel\n",
    "        self.classes = classes\n",
    "        self.epsilon = epsilon\n",
    "        self.binary_classifiers = []\n",
    "\n",
    "    def fit(self, X, y):\n",
    "        K_sim = self.kernel(X, X)\n",
    "        print(f'Finished computing the similarity matrix!')\n",
    "        for i, class_ in enumerate(self.classes):\n",
    "            model = KernelSVC(self.C, self.kernel, self.epsilon)\n",
    "            model.fit(X, np.where(y == class_, 1, -1), K_sim)\n",
    "            self.binary_classifiers.append(model)\n",
    "            print(f'Finished class {class_} vs the rest')\n",
    "\n",
    "\n",
    "    def predict(self, X):\n",
    "        \"\"\" Predict y values before thresholding \"\"\"\n",
    "        predictions = np.zeros((X.shape[0], len(self.classes)))\n",
    "        for i, model in enumerate(self.binary_classifiers):\n",
    "            predictions[:, i] = model.predict(X)\n",
    "        return self.classes[predictions.argmax(axis=1)]"
   ]
  },
  {
   "cell_type": "code",
   "execution_count": null,
   "id": "d0350441",
   "metadata": {
    "ExecuteTime": {
     "start_time": "2022-03-05T14:18:30.251Z"
    }
   },
   "outputs": [
    {
     "name": "stdout",
     "output_type": "stream",
     "text": [
      "Finished computing the similarity matrix!\n"
     ]
    }
   ],
   "source": [
    "C = 10000.\n",
    "linear_kernel = Linear().kernel\n",
    "model = KernelSVMC(C=C, kernel=linear_kernel, classes=classes)\n",
    "model.fit(X_train, y_train)\n",
    "predicted = model.predict(X_train)"
   ]
  },
  {
   "cell_type": "code",
   "execution_count": null,
   "id": "7da188ef",
   "metadata": {},
   "outputs": [],
   "source": [
    "C = 10000.\n",
    "kernel = Linear().kernel\n",
    "model = KernelSVC(C=C, kernel=kernel)\n",
    "train_dataset = datasets['dataset_1']['train']\n",
    "model.fit(train_dataset['x'], train_dataset['y'])\n",
    "plotClassification(train_dataset['x'], train_dataset['y'], model, label='Training', ax = ax[0])\n",
    "\n",
    "C = 10.\n",
    "model = KernelSVC(C=C, kernel=kernel)\n",
    "train_dataset = datasets['dataset_2']['train']\n",
    "model.fit(train_dataset['x'], train_dataset['y'])\n",
    "plotClassification(train_dataset['x'], train_dataset['y'], model, label='Training', ax = ax[1])\n",
    "\n",
    "\n",
    "sigma = 1.5\n",
    "C=100.\n",
    "kernel = RBF(sigma).kernel\n",
    "model = KernelSVC(C=C, kernel=kernel)\n",
    "train_dataset = datasets['dataset_3']['train']\n",
    "model.fit(train_dataset['x'], train_dataset['y'])\n",
    "plotClassification(train_dataset['x'], train_dataset['y'], model, label='Training', ax=ax[2])"
   ]
  }
 ],
 "metadata": {
  "kernelspec": {
   "display_name": "Python 3 (ipykernel)",
   "language": "python",
   "name": "python3"
  },
  "language_info": {
   "codemirror_mode": {
    "name": "ipython",
    "version": 3
   },
   "file_extension": ".py",
   "mimetype": "text/x-python",
   "name": "python",
   "nbconvert_exporter": "python",
   "pygments_lexer": "ipython3",
   "version": "3.9.7"
  },
  "latex_envs": {
   "LaTeX_envs_menu_present": true,
   "autoclose": true,
   "autocomplete": true,
   "bibliofile": "biblio.bib",
   "cite_by": "apalike",
   "current_citInitial": 1,
   "eqLabelWithNumbers": true,
   "eqNumInitial": 1,
   "hotkeys": {
    "equation": "Ctrl-E",
    "itemize": "Ctrl-I"
   },
   "labels_anchors": false,
   "latex_user_defs": false,
   "report_style_numbering": false,
   "user_envs_cfg": false
  }
 },
 "nbformat": 4,
 "nbformat_minor": 5
}
